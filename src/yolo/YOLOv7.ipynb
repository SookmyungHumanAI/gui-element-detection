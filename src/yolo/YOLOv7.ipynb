{
 "cells": [
  {
   "cell_type": "code",
   "execution_count": null,
   "metadata": {
    "pycharm": {
     "is_executing": true
    }
   },
   "outputs": [],
   "source": [
    "import sys\n",
    "sys.path.insert(1, 'E:/Research/course research projects/data-driven software engineering/gui-element-detection/src')"
   ]
  },
  {
   "cell_type": "code",
   "execution_count": 2,
   "metadata": {},
   "outputs": [
    {
     "name": "stdout",
     "output_type": "stream",
     "text": [
      "1.23.5\n",
      "1.11.0+cu113\n",
      "3.9.16 (main, Mar  8 2023, 10:39:24) [MSC v.1916 64 bit (AMD64)]\n",
      "GPU 0: NVIDIA GeForce RTX 3070 Ti Laptop GPU (UUID: GPU-dbf4ddbd-64b1-9aec-ecde-9c9b8ebb3642)\n"
     ]
    }
   ],
   "source": [
    "# !git clone https://github.com/WongKinYiu/yolov7.git\n",
    "!conda activate Yolov7_u\n",
    "import numpy\n",
    "import torch\n",
    "print(numpy.__version__)\n",
    "print(torch.__version__)\n",
    "print(sys.version)\n",
    "!nvidia-smi -L"
   ]
  },
  {
   "cell_type": "code",
   "execution_count": 3,
   "metadata": {},
   "outputs": [
    {
     "name": "stdout",
     "output_type": "stream",
     "text": [
      "E:\\Research\\course research projects\\data-driven software engineering\\gui-element-detection\\src\\yolo\\yolov7\n"
     ]
    }
   ],
   "source": [
    "%cd yolov7"
   ]
  },
  {
   "cell_type": "code",
   "execution_count": 4,
   "metadata": {},
   "outputs": [],
   "source": [
    "TRAIN = True\n",
    "EPOCHS = 100\n",
    "import glob"
   ]
  },
  {
   "cell_type": "code",
   "execution_count": 5,
   "outputs": [],
   "source": [
    "# !conda activate Yolov7_u\n",
    "# this does not work - add the created env path to OS environmental variables -> the next line should match with the env's selected python version"
   ],
   "metadata": {
    "collapsed": false
   }
  },
  {
   "cell_type": "code",
   "execution_count": 6,
   "outputs": [
    {
     "name": "stdout",
     "output_type": "stream",
     "text": [
      "3.9.16 (main, Mar  8 2023, 10:39:24) [MSC v.1916 64 bit (AMD64)]\n"
     ]
    }
   ],
   "source": [
    "!python -c \"import sys; print(sys.version)\""
   ],
   "metadata": {
    "collapsed": false
   }
  },
  {
   "cell_type": "code",
   "execution_count": 7,
   "metadata": {},
   "outputs": [],
   "source": [
    "def set_res_dir():\n",
    "    # Directory to store results\n",
    "    res_dir_count = len(glob.glob('runs/train/*'))\n",
    "    print(f\"Current number of result directories: {res_dir_count}\")\n",
    "    if TRAIN:\n",
    "        RES_DIR = f\"results_{EPOCHS}_{res_dir_count+1}\"\n",
    "        print(RES_DIR)\n",
    "    else:\n",
    "        RES_DIR = f\"results_{EPOCHS}_{res_dir_count}\"\n",
    "    return RES_DIR\n",
    "\n",
    "def train(res_dir,img_size=416,epochs=EPOCHS):\n",
    "    # !python train.py --workers 8 --device 0 --batch-size 16 --data data/custom.yaml --img-size {img_size} {img_size} --cfg cfg/training/yolov7_custom.yaml --weights yolov7.pt --name {res_dir} --hyp data/hyp.scratch.p5.yaml --epochs {epochs}\n",
    "    !python train.py --workers 8 --device 0 --batch-size 16 --data data/custom.yaml --img-size {img_size} {img_size} --cfg cfg/training/yolov7_custom.yaml --weights yolov7_training.pt --name {res_dir} --hyp data/hyp.scratch.p5.yaml --epochs {epochs}"
   ]
  },
  {
   "cell_type": "code",
   "execution_count": 8,
   "metadata": {},
   "outputs": [
    {
     "name": "stdout",
     "output_type": "stream",
     "text": [
      "Current number of result directories: 22\n",
      "results_100_23\n"
     ]
    }
   ],
   "source": [
    "RES_DIR = set_res_dir()"
   ]
  },
  {
   "cell_type": "code",
   "execution_count": 9,
   "metadata": {},
   "outputs": [
    {
     "name": "stdout",
     "output_type": "stream",
     "text": [
      "W&B disabled.\n"
     ]
    }
   ],
   "source": [
    "!wandb disabled"
   ]
  },
  {
   "cell_type": "code",
   "execution_count": 10,
   "metadata": {},
   "outputs": [
    {
     "name": "stdout",
     "output_type": "stream",
     "text": [
      "1.11.0+cu113\n",
      "True\n",
      "0\n"
     ]
    }
   ],
   "source": [
    "# import torch\n",
    "# print(torch.__version__)\n",
    "# print(torch.cuda.is_available())\n",
    "# print(torch.cuda.current_device())"
   ]
  },
  {
   "cell_type": "code",
   "execution_count": 17,
   "outputs": [
    {
     "name": "stdout",
     "output_type": "stream",
     "text": [
      "^C\n"
     ]
    }
   ],
   "source": [
    "train(res_dir=RES_DIR,img_size=416,epochs=100)"
   ],
   "metadata": {
    "collapsed": false
   }
  },
  {
   "cell_type": "code",
   "execution_count": 10,
   "outputs": [],
   "source": [
    "epochs = 100\n",
    "img_size = 416\n",
    "res_dir = RES_DIR\n"
   ],
   "metadata": {
    "collapsed": false
   }
  },
  {
   "cell_type": "code",
   "execution_count": 12,
   "outputs": [
    {
     "name": "stdout",
     "output_type": "stream",
     "text": [
      "^C\n"
     ]
    }
   ],
   "source": [
    "!python train.py --workers 8 --device 0 --batch-size 16 --data data/custom.yaml --img-size {img_size} {img_size} --cfg cfg/training/yolov7_custom.yaml --weights yolov7.pt --name {res_dir} --hyp data/hyp.scratch.p5.yaml --epochs {epochs}"
   ],
   "metadata": {
    "collapsed": false
   }
  },
  {
   "cell_type": "code",
   "execution_count": 13,
   "outputs": [
    {
     "name": "stdout",
     "output_type": "stream",
     "text": [
      "Training Ended\n"
     ]
    }
   ],
   "source": [
    "print(\"Training Ended\")"
   ],
   "metadata": {
    "collapsed": false
   }
  }
 ],
 "metadata": {
  "kernelspec": {
   "display_name": "Python 3 (ipykernel)",
   "language": "python",
   "name": "python3"
  },
  "language_info": {
   "codemirror_mode": {
    "name": "ipython",
    "version": 3
   },
   "file_extension": ".py",
   "mimetype": "text/x-python",
   "name": "python",
   "nbconvert_exporter": "python",
   "pygments_lexer": "ipython3",
   "version": "3.9.16"
  }
 },
 "nbformat": 4,
 "nbformat_minor": 1
}

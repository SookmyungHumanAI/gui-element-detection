{
 "cells": [
  {
   "cell_type": "code",
   "execution_count": 1,
   "metadata": {},
   "outputs": [],
   "source": [
    "import sys\n",
    "sys.path.insert(1, 'E:/Research/course research projects/data-driven software engineering/gui-element-detection/src')"
   ]
  },
  {
   "cell_type": "code",
   "execution_count": 2,
   "metadata": {},
   "outputs": [
    {
     "name": "stdout",
     "output_type": "stream",
     "text": [
      "1.23.5\n",
      "1.11.0+cu113\n",
      "3.9.16 (main, Mar  8 2023, 10:39:24) [MSC v.1916 64 bit (AMD64)]\n",
      "GPU 0: NVIDIA GeForce RTX 3070 Ti Laptop GPU (UUID: GPU-dbf4ddbd-64b1-9aec-ecde-9c9b8ebb3642)\n"
     ]
    }
   ],
   "source": [
    "# !git clone https://github.com/WongKinYiu/yolov7.git\n",
    "# !conda activate Yolov7_u\n",
    "import numpy\n",
    "import torch\n",
    "print(numpy.__version__)\n",
    "print(torch.__version__)\n",
    "print(sys.version)\n",
    "!nvidia-smi -L"
   ]
  },
  {
   "cell_type": "code",
   "execution_count": 2,
   "metadata": {},
   "outputs": [
    {
     "name": "stdout",
     "output_type": "stream",
     "text": [
      "E:\\Research\\course research projects\\data-driven software engineering\\gui-element-detection\\src\\yolo\\yolov7\n"
     ]
    }
   ],
   "source": [
    "%cd yolov7"
   ]
  },
  {
   "cell_type": "code",
   "execution_count": 3,
   "metadata": {},
   "outputs": [],
   "source": [
    "TRAIN = True\n",
    "EPOCHS = 300\n",
    "import glob"
   ]
  },
  {
   "cell_type": "code",
   "execution_count": 5,
   "outputs": [],
   "source": [
    "# !conda activate Yolov7_u\n",
    "# this does not work - add the created env path to OS environmental variables -> the next line should match with the env's selected python version"
   ],
   "metadata": {
    "collapsed": false
   }
  },
  {
   "cell_type": "code",
   "execution_count": 6,
   "outputs": [
    {
     "name": "stdout",
     "output_type": "stream",
     "text": [
      "3.9.16 (main, Mar  8 2023, 10:39:24) [MSC v.1916 64 bit (AMD64)]\n"
     ]
    }
   ],
   "source": [
    "!python -c \"import sys; print(sys.version)\""
   ],
   "metadata": {
    "collapsed": false
   }
  },
  {
   "cell_type": "code",
   "execution_count": 7,
   "metadata": {},
   "outputs": [],
   "source": [
    "def set_res_dir():\n",
    "    # Directory to store results\n",
    "    res_dir_count = len(glob.glob('runs/train/*'))\n",
    "    print(f\"Current number of result directories: {res_dir_count}\")\n",
    "    if TRAIN:\n",
    "        RES_DIR = f\"results_{EPOCHS}_{res_dir_count+1}\"\n",
    "        print(RES_DIR)\n",
    "    else:\n",
    "        RES_DIR = f\"results_{EPOCHS}_{res_dir_count}\"\n",
    "    return RES_DIR\n",
    "\n",
    "def train(res_dir,img_size=416,epochs=EPOCHS):\n",
    "    # !python train.py --workers 8 --device 0 --batch-size 16 --data data/custom.yaml --img-size {img_size} {img_size} --cfg cfg/training/yolov7_custom.yaml --weights yolov7.pt --name {res_dir} --hyp data/hyp.scratch.p5.yaml --epochs {epochs}\n",
    "    !python train.py --workers 8 --device 0 --batch-size 16 --data data/custom.yaml --img-size {img_size} {img_size} --cfg cfg/training/yolov7_custom.yaml --weights yolov7_training.pt --name {res_dir} --hyp data/hyp.scratch.p5.yaml --epochs {epochs}"
   ]
  },
  {
   "cell_type": "code",
   "execution_count": 8,
   "metadata": {},
   "outputs": [
    {
     "name": "stdout",
     "output_type": "stream",
     "text": [
      "Current number of result directories: 22\n",
      "results_100_23\n"
     ]
    }
   ],
   "source": [
    "RES_DIR = set_res_dir()"
   ]
  },
  {
   "cell_type": "code",
   "execution_count": 9,
   "metadata": {},
   "outputs": [
    {
     "name": "stdout",
     "output_type": "stream",
     "text": [
      "W&B disabled.\n"
     ]
    }
   ],
   "source": [
    "!wandb disabled"
   ]
  },
  {
   "cell_type": "code",
   "execution_count": 10,
   "metadata": {},
   "outputs": [
    {
     "name": "stdout",
     "output_type": "stream",
     "text": [
      "1.11.0+cu113\n",
      "True\n",
      "0\n"
     ]
    }
   ],
   "source": [
    "# import torch\n",
    "# print(torch.__version__)\n",
    "# print(torch.cuda.is_available())\n",
    "# print(torch.cuda.current_device())"
   ]
  },
  {
   "cell_type": "code",
   "execution_count": 17,
   "outputs": [
    {
     "name": "stdout",
     "output_type": "stream",
     "text": [
      "^C\n"
     ]
    }
   ],
   "source": [
    "train(res_dir=RES_DIR,img_size=416,epochs=100)"
   ],
   "metadata": {
    "collapsed": false
   }
  },
  {
   "cell_type": "code",
   "execution_count": 10,
   "outputs": [],
   "source": [
    "epochs = 100\n",
    "img_size = 416\n",
    "res_dir = RES_DIR\n"
   ],
   "metadata": {
    "collapsed": false
   }
  },
  {
   "cell_type": "code",
   "execution_count": 12,
   "outputs": [
    {
     "name": "stdout",
     "output_type": "stream",
     "text": [
      "^C\n"
     ]
    }
   ],
   "source": [
    "!python train.py --workers 8 --device 0 --batch-size 16 --data data/custom.yaml --img-size {img_size} {img_size} --cfg cfg/training/yolov7_custom.yaml --weights yolov7.pt --name {res_dir} --hyp data/hyp.scratch.p5.yaml --epochs {epochs}"
   ],
   "metadata": {
    "collapsed": false
   }
  },
  {
   "cell_type": "code",
   "execution_count": 13,
   "outputs": [
    {
     "name": "stdout",
     "output_type": "stream",
     "text": [
      "Training Ended\n"
     ]
    }
   ],
   "source": [
    "print(\"Training Ended\")"
   ],
   "metadata": {
    "collapsed": false
   }
  },
  {
   "cell_type": "code",
   "execution_count": 5,
   "outputs": [
    {
     "name": "stdout",
     "output_type": "stream",
     "text": [
      "Namespace(weights=['runs/train/conda_custom_env_1007/weights/best.pt'], data='data/custom.yaml', batch_size=16, img_size=416, conf_thres=0.001, iou_thres=0.65, task='test', device='', single_cls=False, augment=False, verbose=False, save_txt=False, save_hybrid=False, save_conf=False, save_json=False, project='runs/test', name=\"'test_results'\", exist_ok=False, no_trace=False, v5_metric=False)\n",
      "Fusing layers... \n",
      "RepConv.fuse_repvgg_block\n",
      "RepConv.fuse_repvgg_block\n",
      "RepConv.fuse_repvgg_block\n",
      "IDetect.fuse\n",
      " Convert model to Traced-model... \n",
      " traced_script_module saved! \n",
      " model is traced! \n",
      "\n",
      "                 all         455        6190       0.948        0.89       0.935       0.873\n",
      "     BackgroundImage         455          62       0.842       0.887       0.929       0.908\n",
      "     CheckedTextView         455          71       0.901       0.648       0.741       0.646\n",
      "                Icon         455        1111       0.954        0.88       0.965       0.829\n",
      "            EditText         455         219       0.975       0.959       0.989       0.938\n",
      "               Image         455         763       0.905       0.844       0.943       0.885\n",
      "                Text         455        2892       0.967       0.947       0.967       0.877\n",
      "          TextButton         455         459       0.974       0.963       0.983       0.976\n",
      "              Drawer         455          19       0.984           1       0.996       0.996\n",
      "       PageIndicator         455         154       0.997       0.961       0.994       0.794\n",
      "        UpperTaskBar         455         370       0.996       0.617       0.734       0.682\n",
      "               Modal         455          31       0.938       0.972       0.986       0.978\n",
      "              Switch         455          39       0.941           1       0.996       0.967\n",
      "Speed: 6.4/1.7/8.0 ms inference/NMS/total per 416x416 image at batch-size 16\n",
      "Results saved to runs\\test\\'test_results'\n"
     ]
    },
    {
     "name": "stderr",
     "output_type": "stream",
     "text": [
      "YOLOR  2023-3-22 torch 1.11.0+cu113 CUDA:0 (NVIDIA GeForce RTX 3070 Ti Laptop GPU, 8191.5MB)\n",
      "\n",
      "C:\\Users\\Shayan\\.conda\\envs\\Yolov7_u\\lib\\site-packages\\torch\\functional.py:568: UserWarning: torch.meshgrid: in an upcoming release, it will be required to pass the indexing argument. (Triggered internally at  C:\\actions-runner\\_work\\pytorch\\pytorch\\builder\\windows\\pytorch\\aten\\src\\ATen\\native\\TensorShape.cpp:2228.)\n",
      "  return _VF.meshgrid(tensors, **kwargs)  # type: ignore[attr-defined]\n",
      "Model Summary: 314 layers, 36541106 parameters, 6194944 gradients, 103.3 GFLOPS\n",
      "\n",
      "Scanning images:   0%|          | 0/455 [00:00<?, ?it/s]\n",
      "\u001B[34m\u001B[1mtest: \u001B[0mScanning 'E:\\Research\\course research projects\\data-driven software engineering\\datasets\\All Dataset\\Merged\\dataset\\test' images and labels... 16 found, 0 missing, 0 empty, 0 corrupted:   4%|3         | 16/455 [00:00<00:02, 152.36it/s]\n",
      "\u001B[34m\u001B[1mtest: \u001B[0mScanning 'E:\\Research\\course research projects\\data-driven software engineering\\datasets\\All Dataset\\Merged\\dataset\\test' images and labels... 33 found, 0 missing, 0 empty, 0 corrupted:   7%|7         | 33/455 [00:00<00:02, 161.61it/s]\n",
      "\u001B[34m\u001B[1mtest: \u001B[0mScanning 'E:\\Research\\course research projects\\data-driven software engineering\\datasets\\All Dataset\\Merged\\dataset\\test' images and labels... 50 found, 0 missing, 0 empty, 0 corrupted:  11%|#         | 50/455 [00:00<00:02, 163.89it/s]\n",
      "\u001B[34m\u001B[1mtest: \u001B[0mScanning 'E:\\Research\\course research projects\\data-driven software engineering\\datasets\\All Dataset\\Merged\\dataset\\test' images and labels... 115 found, 0 missing, 0 empty, 0 corrupted:  25%|##5       | 115/455 [00:00<00:00, 351.65it/s]\n",
      "\u001B[34m\u001B[1mtest: \u001B[0mScanning 'E:\\Research\\course research projects\\data-driven software engineering\\datasets\\All Dataset\\Merged\\dataset\\test' images and labels... 190 found, 0 missing, 0 empty, 0 corrupted:  42%|####1     | 190/455 [00:00<00:00, 492.78it/s]\n",
      "\u001B[34m\u001B[1mtest: \u001B[0mScanning 'E:\\Research\\course research projects\\data-driven software engineering\\datasets\\All Dataset\\Merged\\dataset\\test' images and labels... 258 found, 0 missing, 0 empty, 0 corrupted:  57%|#####6    | 258/455 [00:00<00:00, 555.01it/s]\n",
      "\u001B[34m\u001B[1mtest: \u001B[0mScanning 'E:\\Research\\course research projects\\data-driven software engineering\\datasets\\All Dataset\\Merged\\dataset\\test' images and labels... 322 found, 0 missing, 0 empty, 0 corrupted:  71%|#######   | 322/455 [00:00<00:00, 580.72it/s]\n",
      "\u001B[34m\u001B[1mtest: \u001B[0mScanning 'E:\\Research\\course research projects\\data-driven software engineering\\datasets\\All Dataset\\Merged\\dataset\\test' images and labels... 395 found, 0 missing, 0 empty, 0 corrupted:  87%|########6 | 395/455 [00:00<00:00, 626.79it/s]\n",
      "\u001B[34m\u001B[1mtest: \u001B[0mScanning 'E:\\Research\\course research projects\\data-driven software engineering\\datasets\\All Dataset\\Merged\\dataset\\test' images and labels... 455 found, 0 missing, 0 empty, 0 corrupted: 100%|##########| 455/455 [00:00<00:00, 505.30it/s]\n",
      "\u001B[34m\u001B[1mtest: \u001B[0mNew cache created: E:\\Research\\course research projects\\data-driven software engineering\\datasets\\All Dataset\\Merged\\dataset\\test.cache\n",
      "\n",
      "               Class      Images      Labels           P           R      mAP@.5  mAP@.5:.95:   0%|          | 0/29 [00:00<?, ?it/s]\n",
      "               Class      Images      Labels           P           R      mAP@.5  mAP@.5:.95:   3%|3         | 1/29 [00:01<00:41,  1.46s/it]\n",
      "               Class      Images      Labels           P           R      mAP@.5  mAP@.5:.95:   7%|6         | 2/29 [00:01<00:23,  1.16it/s]\n",
      "               Class      Images      Labels           P           R      mAP@.5  mAP@.5:.95:  10%|#         | 3/29 [00:02<00:17,  1.49it/s]\n",
      "               Class      Images      Labels           P           R      mAP@.5  mAP@.5:.95:  14%|#3        | 4/29 [00:02<00:13,  1.79it/s]\n",
      "               Class      Images      Labels           P           R      mAP@.5  mAP@.5:.95:  17%|#7        | 5/29 [00:03<00:11,  2.06it/s]\n",
      "               Class      Images      Labels           P           R      mAP@.5  mAP@.5:.95:  21%|##        | 6/29 [00:03<00:10,  2.29it/s]\n",
      "               Class      Images      Labels           P           R      mAP@.5  mAP@.5:.95:  24%|##4       | 7/29 [00:03<00:09,  2.40it/s]\n",
      "               Class      Images      Labels           P           R      mAP@.5  mAP@.5:.95:  28%|##7       | 8/29 [00:04<00:08,  2.43it/s]\n",
      "               Class      Images      Labels           P           R      mAP@.5  mAP@.5:.95:  31%|###1      | 9/29 [00:04<00:07,  2.50it/s]\n",
      "               Class      Images      Labels           P           R      mAP@.5  mAP@.5:.95:  34%|###4      | 10/29 [00:04<00:07,  2.54it/s]\n",
      "               Class      Images      Labels           P           R      mAP@.5  mAP@.5:.95:  38%|###7      | 11/29 [00:05<00:06,  2.60it/s]\n",
      "               Class      Images      Labels           P           R      mAP@.5  mAP@.5:.95:  41%|####1     | 12/29 [00:05<00:06,  2.64it/s]\n",
      "               Class      Images      Labels           P           R      mAP@.5  mAP@.5:.95:  45%|####4     | 13/29 [00:06<00:05,  2.77it/s]\n",
      "               Class      Images      Labels           P           R      mAP@.5  mAP@.5:.95:  48%|####8     | 14/29 [00:06<00:05,  2.69it/s]\n",
      "               Class      Images      Labels           P           R      mAP@.5  mAP@.5:.95:  52%|#####1    | 15/29 [00:06<00:05,  2.58it/s]\n",
      "               Class      Images      Labels           P           R      mAP@.5  mAP@.5:.95:  55%|#####5    | 16/29 [00:07<00:05,  2.60it/s]\n",
      "               Class      Images      Labels           P           R      mAP@.5  mAP@.5:.95:  59%|#####8    | 17/29 [00:07<00:04,  2.64it/s]\n",
      "               Class      Images      Labels           P           R      mAP@.5  mAP@.5:.95:  62%|######2   | 18/29 [00:08<00:04,  2.47it/s]\n",
      "               Class      Images      Labels           P           R      mAP@.5  mAP@.5:.95:  66%|######5   | 19/29 [00:08<00:04,  2.43it/s]\n",
      "               Class      Images      Labels           P           R      mAP@.5  mAP@.5:.95:  69%|######8   | 20/29 [00:08<00:03,  2.45it/s]\n",
      "               Class      Images      Labels           P           R      mAP@.5  mAP@.5:.95:  72%|#######2  | 21/29 [00:09<00:03,  2.49it/s]\n",
      "               Class      Images      Labels           P           R      mAP@.5  mAP@.5:.95:  76%|#######5  | 22/29 [00:09<00:02,  2.53it/s]\n",
      "               Class      Images      Labels           P           R      mAP@.5  mAP@.5:.95:  79%|#######9  | 23/29 [00:10<00:02,  2.54it/s]\n",
      "               Class      Images      Labels           P           R      mAP@.5  mAP@.5:.95:  83%|########2 | 24/29 [00:10<00:02,  2.45it/s]\n",
      "               Class      Images      Labels           P           R      mAP@.5  mAP@.5:.95:  86%|########6 | 25/29 [00:10<00:01,  2.44it/s]\n",
      "               Class      Images      Labels           P           R      mAP@.5  mAP@.5:.95:  90%|########9 | 26/29 [00:11<00:01,  2.61it/s]\n",
      "               Class      Images      Labels           P           R      mAP@.5  mAP@.5:.95:  93%|#########3| 27/29 [00:11<00:00,  2.78it/s]\n",
      "               Class      Images      Labels           P           R      mAP@.5  mAP@.5:.95:  97%|#########6| 28/29 [00:11<00:00,  2.89it/s]\n",
      "               Class      Images      Labels           P           R      mAP@.5  mAP@.5:.95: 100%|##########| 29/29 [00:11<00:00,  3.54it/s]\n",
      "               Class      Images      Labels           P           R      mAP@.5  mAP@.5:.95: 100%|##########| 29/29 [00:11<00:00,  2.43it/s]\n"
     ]
    }
   ],
   "source": [
    "!python test.py --task test --batch-size 16 --data data/custom.yaml --img-size 416 --weights runs/train/conda_custom_env_1007/weights/best.pt --name 'test_results'"
   ],
   "metadata": {
    "collapsed": false
   }
  },
  {
   "cell_type": "code",
   "execution_count": 6,
   "outputs": [
    {
     "name": "stdout",
     "output_type": "stream",
     "text": [
      "Namespace(weights=['runs/train/conda_custom_env_1007/weights/best.pt'], data='data/custom.yaml', batch_size=16, img_size=416, conf_thres=0.001, iou_thres=0.65, task='val', device='', single_cls=False, augment=False, verbose=False, save_txt=False, save_hybrid=False, save_conf=False, save_json=False, project='runs/test', name=\"'val_results'\", exist_ok=False, no_trace=False, v5_metric=False)\n",
      "Fusing layers... \n",
      "RepConv.fuse_repvgg_block\n",
      "RepConv.fuse_repvgg_block\n",
      "RepConv.fuse_repvgg_block\n",
      "IDetect.fuse\n",
      " Convert model to Traced-model... \n",
      " traced_script_module saved! \n",
      " model is traced! \n",
      "\n",
      "                 all         455        6354       0.939       0.923        0.94       0.883\n",
      "     BackgroundImage         455          56       0.788       0.928       0.869       0.843\n",
      "     CheckedTextView         455         142       0.866       0.887       0.894       0.807\n",
      "                Icon         455        1088       0.921       0.906        0.96       0.828\n",
      "            EditText         455         209        0.98       0.971       0.993       0.949\n",
      "               Image         455         858        0.88       0.865       0.921       0.872\n",
      "                Text         455        2952       0.962       0.952       0.963       0.869\n",
      "          TextButton         455         427       0.962       0.972        0.99       0.982\n",
      "              Drawer         455          30       0.979           1       0.996       0.996\n",
      "       PageIndicator         455         157           1       0.965       0.987       0.828\n",
      "        UpperTaskBar         455         387       0.996       0.635       0.717        0.68\n",
      "               Modal         455          31       0.958           1       0.995       0.986\n",
      "              Switch         455          17       0.981           1       0.995       0.961\n",
      "Speed: 6.8/1.7/8.5 ms inference/NMS/total per 416x416 image at batch-size 16\n",
      "Results saved to runs\\test\\'val_results'\n"
     ]
    },
    {
     "name": "stderr",
     "output_type": "stream",
     "text": [
      "YOLOR  2023-3-22 torch 1.11.0+cu113 CUDA:0 (NVIDIA GeForce RTX 3070 Ti Laptop GPU, 8191.5MB)\n",
      "\n",
      "C:\\Users\\Shayan\\.conda\\envs\\Yolov7_u\\lib\\site-packages\\torch\\functional.py:568: UserWarning: torch.meshgrid: in an upcoming release, it will be required to pass the indexing argument. (Triggered internally at  C:\\actions-runner\\_work\\pytorch\\pytorch\\builder\\windows\\pytorch\\aten\\src\\ATen\\native\\TensorShape.cpp:2228.)\n",
      "  return _VF.meshgrid(tensors, **kwargs)  # type: ignore[attr-defined]\n",
      "Model Summary: 314 layers, 36541106 parameters, 6194944 gradients, 103.3 GFLOPS\n",
      "\n",
      "\u001B[34m\u001B[1mval: \u001B[0mScanning 'E:\\Research\\course research projects\\data-driven software engineering\\datasets\\All Dataset\\Merged\\dataset\\val.cache' images and labels... 455 found, 0 missing, 0 empty, 0 corrupted: 100%|##########| 455/455 [00:00<?, ?it/s]\n",
      "\u001B[34m\u001B[1mval: \u001B[0mScanning 'E:\\Research\\course research projects\\data-driven software engineering\\datasets\\All Dataset\\Merged\\dataset\\val.cache' images and labels... 455 found, 0 missing, 0 empty, 0 corrupted: 100%|##########| 455/455 [00:00<?, ?it/s]\n",
      "\n",
      "               Class      Images      Labels           P           R      mAP@.5  mAP@.5:.95:   0%|          | 0/29 [00:00<?, ?it/s]\n",
      "               Class      Images      Labels           P           R      mAP@.5  mAP@.5:.95:   3%|3         | 1/29 [00:01<00:41,  1.48s/it]\n",
      "               Class      Images      Labels           P           R      mAP@.5  mAP@.5:.95:   7%|6         | 2/29 [00:01<00:23,  1.13it/s]\n",
      "               Class      Images      Labels           P           R      mAP@.5  mAP@.5:.95:  10%|#         | 3/29 [00:02<00:17,  1.45it/s]\n",
      "               Class      Images      Labels           P           R      mAP@.5  mAP@.5:.95:  14%|#3        | 4/29 [00:02<00:14,  1.72it/s]\n",
      "               Class      Images      Labels           P           R      mAP@.5  mAP@.5:.95:  17%|#7        | 5/29 [00:03<00:12,  1.96it/s]\n",
      "               Class      Images      Labels           P           R      mAP@.5  mAP@.5:.95:  21%|##        | 6/29 [00:03<00:10,  2.18it/s]\n",
      "               Class      Images      Labels           P           R      mAP@.5  mAP@.5:.95:  24%|##4       | 7/29 [00:03<00:09,  2.29it/s]\n",
      "               Class      Images      Labels           P           R      mAP@.5  mAP@.5:.95:  28%|##7       | 8/29 [00:04<00:09,  2.28it/s]\n",
      "               Class      Images      Labels           P           R      mAP@.5  mAP@.5:.95:  31%|###1      | 9/29 [00:04<00:08,  2.41it/s]\n",
      "               Class      Images      Labels           P           R      mAP@.5  mAP@.5:.95:  34%|###4      | 10/29 [00:05<00:07,  2.41it/s]\n",
      "               Class      Images      Labels           P           R      mAP@.5  mAP@.5:.95:  38%|###7      | 11/29 [00:05<00:07,  2.38it/s]\n",
      "               Class      Images      Labels           P           R      mAP@.5  mAP@.5:.95:  41%|####1     | 12/29 [00:05<00:06,  2.47it/s]\n",
      "               Class      Images      Labels           P           R      mAP@.5  mAP@.5:.95:  45%|####4     | 13/29 [00:06<00:06,  2.53it/s]\n",
      "               Class      Images      Labels           P           R      mAP@.5  mAP@.5:.95:  48%|####8     | 14/29 [00:06<00:05,  2.64it/s]\n",
      "               Class      Images      Labels           P           R      mAP@.5  mAP@.5:.95:  52%|#####1    | 15/29 [00:07<00:05,  2.62it/s]\n",
      "               Class      Images      Labels           P           R      mAP@.5  mAP@.5:.95:  55%|#####5    | 16/29 [00:07<00:05,  2.55it/s]\n",
      "               Class      Images      Labels           P           R      mAP@.5  mAP@.5:.95:  59%|#####8    | 17/29 [00:07<00:04,  2.54it/s]\n",
      "               Class      Images      Labels           P           R      mAP@.5  mAP@.5:.95:  62%|######2   | 18/29 [00:08<00:04,  2.41it/s]\n",
      "               Class      Images      Labels           P           R      mAP@.5  mAP@.5:.95:  66%|######5   | 19/29 [00:08<00:04,  2.32it/s]\n",
      "               Class      Images      Labels           P           R      mAP@.5  mAP@.5:.95:  69%|######8   | 20/29 [00:09<00:04,  2.09it/s]\n",
      "               Class      Images      Labels           P           R      mAP@.5  mAP@.5:.95:  72%|#######2  | 21/29 [00:09<00:03,  2.05it/s]\n",
      "               Class      Images      Labels           P           R      mAP@.5  mAP@.5:.95:  76%|#######5  | 22/29 [00:10<00:03,  2.09it/s]\n",
      "               Class      Images      Labels           P           R      mAP@.5  mAP@.5:.95:  79%|#######9  | 23/29 [00:10<00:02,  2.07it/s]\n",
      "               Class      Images      Labels           P           R      mAP@.5  mAP@.5:.95:  83%|########2 | 24/29 [00:11<00:02,  2.08it/s]\n",
      "               Class      Images      Labels           P           R      mAP@.5  mAP@.5:.95:  86%|########6 | 25/29 [00:11<00:01,  2.04it/s]\n",
      "               Class      Images      Labels           P           R      mAP@.5  mAP@.5:.95:  90%|########9 | 26/29 [00:12<00:01,  2.08it/s]\n",
      "               Class      Images      Labels           P           R      mAP@.5  mAP@.5:.95:  93%|#########3| 27/29 [00:12<00:00,  2.27it/s]\n",
      "               Class      Images      Labels           P           R      mAP@.5  mAP@.5:.95:  97%|#########6| 28/29 [00:13<00:00,  2.46it/s]\n",
      "               Class      Images      Labels           P           R      mAP@.5  mAP@.5:.95: 100%|##########| 29/29 [00:13<00:00,  3.01it/s]\n",
      "               Class      Images      Labels           P           R      mAP@.5  mAP@.5:.95: 100%|##########| 29/29 [00:13<00:00,  2.20it/s]\n"
     ]
    }
   ],
   "source": [
    "!python test.py --task val --batch-size 16 --data data/custom.yaml --img-size 416 --weights runs/train/conda_custom_env_1007/weights/best.pt --name 'val_results'"
   ],
   "metadata": {
    "collapsed": false
   }
  }
 ],
 "metadata": {
  "kernelspec": {
   "display_name": "Python 3 (ipykernel)",
   "language": "python",
   "name": "python3"
  },
  "language_info": {
   "codemirror_mode": {
    "name": "ipython",
    "version": 3
   },
   "file_extension": ".py",
   "mimetype": "text/x-python",
   "name": "python",
   "nbconvert_exporter": "python",
   "pygments_lexer": "ipython3",
   "version": "3.9.16"
  }
 },
 "nbformat": 4,
 "nbformat_minor": 1
}

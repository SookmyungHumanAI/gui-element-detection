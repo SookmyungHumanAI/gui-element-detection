{
 "cells": [
  {
   "cell_type": "code",
   "execution_count": 1,
   "outputs": [],
   "source": [
    "import sys\n",
    "sys.path.insert(1, 'E:/Research/course research projects/data-driven software engineering/gui-element-detection/src')"
   ],
   "metadata": {
    "collapsed": false
   }
  },
  {
   "cell_type": "code",
   "execution_count": 2,
   "outputs": [],
   "source": [
    "import os\n",
    "import glob\n",
    "import matplotlib.pyplot as plt\n",
    "import cv2\n",
    "import requests\n",
    "import numpy as np\n",
    "import pandas as pd\n",
    "from IPython.display import Image\n",
    "from random import choice\n",
    "import shutil\n",
    "\n",
    "SEED = 42\n",
    "np.random.seed(SEED)\n",
    "\n",
    "from constants import VINS_MERGED_YOLO_FULL as dsPath\n",
    "\n",
    "from constants import VINS_MERGED_YOLO_SPLIT_TEST_IMAGES as testImagePath\n",
    "from constants import VINS_MERGED_YOLO_SPLIT_TRAIN_IMAGES as trainImagePath\n",
    "from constants import VINS_MERGED_YOLO_SPLIT_VAL_IMAGES as valImagePath\n",
    "\n",
    "from constants import VINS_MERGED_YOLO_SPLIT_TEST_LABELS as testLabelPath\n",
    "from constants import VINS_MERGED_YOLO_SPLIT_TRAIN_LABELS as trainLabelPath\n",
    "from constants import VINS_MERGED_YOLO_SPLIT_VAL_LABELS as valLabelPath"
   ],
   "metadata": {
    "collapsed": false
   }
  },
  {
   "cell_type": "code",
   "execution_count": 3,
   "outputs": [],
   "source": [
    "TRAIN = True\n",
    "\n",
    "EPOCHS = 25"
   ],
   "metadata": {
    "collapsed": false
   }
  },
  {
   "cell_type": "code",
   "execution_count": 4,
   "outputs": [],
   "source": [
    "# !git clone https://github.com/ultralytics/yolov5"
   ],
   "metadata": {
    "collapsed": false
   }
  },
  {
   "cell_type": "code",
   "execution_count": 5,
   "outputs": [
    {
     "name": "stdout",
     "output_type": "stream",
     "text": [
      "E:\\Research\\course research projects\\data-driven software engineering\\gui-element-detection\\src\\yolo\\yolov5\n"
     ]
    }
   ],
   "source": [
    "%cd yolov5"
   ],
   "metadata": {
    "collapsed": false
   }
  },
  {
   "cell_type": "code",
   "execution_count": 6,
   "outputs": [],
   "source": [
    "# !pip install -r requirements.txt"
   ],
   "metadata": {
    "collapsed": false
   }
  },
  {
   "cell_type": "code",
   "execution_count": 29,
   "outputs": [
    {
     "name": "stdout",
     "output_type": "stream",
     "text": [
      "4550\n"
     ]
    }
   ],
   "source": [
    "from constants import TRAIN_SPLIT_RATIO, TEST_SPLIT_RATIO, VALIDATION_SPLIT_RATIO\n",
    "\n",
    "imageCount = len(os.listdir(dsPath))//2\n",
    "\n",
    "images = glob.glob(f\"{dsPath}*.jpg\")\n",
    "xmls = glob.glob(f\"{dsPath}*.txt\")\n",
    "assert len(images) == imageCount\n",
    "assert len(xmls) == imageCount\n",
    "\n",
    "\n",
    "trainCount = int(TRAIN_SPLIT_RATIO * imageCount)\n",
    "valCount = int(VALIDATION_SPLIT_RATIO * imageCount)\n",
    "testCount = int(TEST_SPLIT_RATIO * imageCount)\n",
    "\n",
    "assert trainCount + valCount + testCount == imageCount"
   ],
   "metadata": {
    "collapsed": false
   }
  },
  {
   "cell_type": "code",
   "execution_count": 26,
   "outputs": [],
   "source": [
    "def copy_files_splits(count, data_paths:list[str], labels_paths:list[str], origin, data_destination, label_destination):\n",
    "    label_type = labels_paths[0].split(\".\")[-1]\n",
    "    data_type_length = len(data_paths[0].split(\".\")[-1])\n",
    "    for i in range(count):\n",
    "        raw_data_file = choice(data_paths)\n",
    "        data_file = raw_data_file.replace(\"\\\\\",\"/\").split(\"/\")[-1]\n",
    "        raw_label_file = raw_data_file[:-(data_type_length + 1)] + \".\" + label_type\n",
    "        label_file = raw_label_file.replace(\"\\\\\",\"/\").split(\"/\")[-1]\n",
    "\n",
    "        shutil.copy(os.path.join(origin,data_file),os.path.join(data_destination, data_file))\n",
    "        shutil.copy(os.path.join(origin,label_file),os.path.join(label_destination, label_file))\n",
    "\n",
    "        data_paths.remove(raw_data_file)\n",
    "        labels_paths.remove(raw_label_file)\n"
   ],
   "metadata": {
    "collapsed": false
   }
  },
  {
   "cell_type": "code",
   "execution_count": 30,
   "outputs": [],
   "source": [
    "# Split the data (Physically) - YOLOv5 Limitation\n",
    "# copy_files_splits(trainCount,images,xmls,dsPath,trainImagePath,trainLabelPath)\n",
    "# copy_files_splits(testCount,images,xmls,dsPath,testImagePath,testLabelPath)\n",
    "# copy_files_splits(valCount,images,xmls,dsPath,valImagePath,valLabelPath)"
   ],
   "metadata": {
    "collapsed": false
   }
  },
  {
   "cell_type": "code",
   "execution_count": 32,
   "outputs": [
    {
     "data": {
      "text/plain": "True"
     },
     "execution_count": 32,
     "metadata": {},
     "output_type": "execute_result"
    }
   ],
   "source": [
    "assert len(images) + len(xmls) == 0 # all images were split into 3 categories"
   ],
   "metadata": {
    "collapsed": false
   }
  },
  {
   "cell_type": "code",
   "execution_count": null,
   "outputs": [],
   "source": [],
   "metadata": {
    "collapsed": false
   }
  }
 ],
 "metadata": {
  "kernelspec": {
   "display_name": "Python 3",
   "language": "python",
   "name": "python3"
  },
  "language_info": {
   "codemirror_mode": {
    "name": "ipython",
    "version": 2
   },
   "file_extension": ".py",
   "mimetype": "text/x-python",
   "name": "python",
   "nbconvert_exporter": "python",
   "pygments_lexer": "ipython2",
   "version": "2.7.6"
  }
 },
 "nbformat": 4,
 "nbformat_minor": 0
}

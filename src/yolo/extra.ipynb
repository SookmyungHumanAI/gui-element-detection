{
 "cells": [
  {
   "cell_type": "code",
   "execution_count": 4,
   "metadata": {
    "collapsed": true
   },
   "outputs": [],
   "source": [
    "import cv2\n",
    "import sys\n",
    "sys.path.insert(1, 'E:/Research/course research projects/data-driven software engineering/gui-element-detection/src')\n",
    "from constants import VINS_CLASSES\n",
    "# from ..constants import VINS_CLASSES"
   ]
  },
  {
   "cell_type": "code",
   "execution_count": 2,
   "outputs": [],
   "source": [
    "I = cv2.imread(\"img.png\")"
   ],
   "metadata": {
    "collapsed": false
   }
  },
  {
   "cell_type": "code",
   "execution_count": null,
   "outputs": [],
   "source": [
    "\n",
    "for bounding_box in predictions['predictions']:\n",
    "    x0 = bounding_box['x'] - bounding_box['width'] / 2\n",
    "    x1 = bounding_box['x'] + bounding_box['width'] / 2\n",
    "    y0 = bounding_box['y'] - bounding_box['height'] / 2\n",
    "    y1 = bounding_box['y'] + bounding_box['height'] / 2\n",
    "\n",
    "    start_point = (int(x0), int(y0))\n",
    "    end_point = (int(x1), int(y1))\n",
    "    cv2.rectangle(img, start_point, end_point, color=(0,0,0), thickness=1)\n",
    "\n",
    "    cv2.putText(\n",
    "        image,\n",
    "        bounding_box[\"class\"],\n",
    "        (int(x0), int(y0) - 10),\n",
    "        fontFace = cv2.FONT_HERSHEY_SIMPLEX,\n",
    "        fontScale = 0.6,\n",
    "        color = (255, 255, 255),\n",
    "        thickness=2\n",
    "    )\n",
    "\n",
    "cv2.imwrite(\"example_with_bounding_boxes.jpg\", image)"
   ],
   "metadata": {
    "collapsed": false
   }
  }
 ],
 "metadata": {
  "kernelspec": {
   "display_name": "Python 3",
   "language": "python",
   "name": "python3"
  },
  "language_info": {
   "codemirror_mode": {
    "name": "ipython",
    "version": 2
   },
   "file_extension": ".py",
   "mimetype": "text/x-python",
   "name": "python",
   "nbconvert_exporter": "python",
   "pygments_lexer": "ipython2",
   "version": "2.7.6"
  }
 },
 "nbformat": 4,
 "nbformat_minor": 0
}

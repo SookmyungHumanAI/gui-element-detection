{
 "cells": [
  {
   "cell_type": "code",
   "execution_count": 4,
   "metadata": {
    "collapsed": true
   },
   "outputs": [],
   "source": [
    "import cv2\n",
    "import sys\n",
    "sys.path.insert(1, 'E:/Research/course research projects/data-driven software engineering/gui-element-detection/src')\n",
    "from constants import VINS_CLASSES\n",
    "# from ..constants import VINS_CLASSES"
   ]
  },
  {
   "cell_type": "code",
   "execution_count": 46,
   "outputs": [],
   "source": [
    "points = [\"4 0.500462962962963 0.8623188405797102 0.9212962962962963 0.2753623188405797\",\n",
    "\"4 0.7310185185185185 0.6488294314381271 0.049074074074074076 0.030100334448160536\",\n",
    "\"5 0.7305555555555555 0.6842251950947603 0.1388888888888889 0.016164994425863992\",\n",
    "\"5 0.2708333333333333 0.6845039018952063 0.18796296296296297 0.016722408026755852\",\n",
    "\"2 0.27037037037037037 0.6485507246376812 0.05 0.030657748049052396\",\n",
    "\"2 0.19722222222222222 0.43812709030100333 0.18888888888888888 0.020066889632107024\",\n",
    "\"8 0.500462962962963 0.3054626532887402 0.14907407407407408 0.011148272017837236\",\n",
    "\"6 0.49907407407407406 0.5426421404682275 0.9203703703703704 0.08082497212931995\",\n",
    "\"5 0.4078703703703704 0.43784838350055744 0.20092592592592592 0.017279821627647716\",\n",
    "\"5 0.06296296296296296 0.43784838350055744 0.04814814814814815 0.017279821627647716\",\n",
    "\"5 0.3148148148148148 0.3862876254180602 0.5425925925925926 0.027870680044593088\",\n",
    "\"2 0.9319444444444445 0.3851727982162765 0.05092592592592592 0.028985507246376812\",\n",
    "\"2 0.9347222222222222 0.07636566332218506 0.01574074074074074 0.026755852842809364\",\n",
    "\"2 0.06898148148148148 0.07636566332218506 0.041666666666666664 0.02564102564102564\",\n",
    "\"4 0.500462962962963 0.18729096989966554 0.9990740740740741 0.3032329988851728\",\n",
    "\"9 0.500462962962963 0.018115942028985508 0.9990740740740741 0.03511705685618729\"]\n",
    "objects = [[int(x.split(\" \")[0]), float(x.split(\" \")[1]), float(x.split(\" \")[2]), float(x.split(\" \")[3]), float(x.split(\" \")[4]) ] for x in points]\n"
   ],
   "metadata": {
    "collapsed": false
   }
  },
  {
   "cell_type": "code",
   "execution_count": 47,
   "outputs": [
    {
     "data": {
      "text/plain": "[[4,\n  0.500462962962963,\n  0.8623188405797102,\n  0.9212962962962963,\n  0.2753623188405797],\n [4,\n  0.7310185185185185,\n  0.6488294314381271,\n  0.049074074074074076,\n  0.030100334448160536],\n [5,\n  0.7305555555555555,\n  0.6842251950947603,\n  0.1388888888888889,\n  0.016164994425863992],\n [5,\n  0.2708333333333333,\n  0.6845039018952063,\n  0.18796296296296297,\n  0.016722408026755852],\n [2, 0.27037037037037037, 0.6485507246376812, 0.05, 0.030657748049052396],\n [2,\n  0.19722222222222222,\n  0.43812709030100333,\n  0.18888888888888888,\n  0.020066889632107024],\n [8,\n  0.500462962962963,\n  0.3054626532887402,\n  0.14907407407407408,\n  0.011148272017837236],\n [6,\n  0.49907407407407406,\n  0.5426421404682275,\n  0.9203703703703704,\n  0.08082497212931995],\n [5,\n  0.4078703703703704,\n  0.43784838350055744,\n  0.20092592592592592,\n  0.017279821627647716],\n [5,\n  0.06296296296296296,\n  0.43784838350055744,\n  0.04814814814814815,\n  0.017279821627647716],\n [5,\n  0.3148148148148148,\n  0.3862876254180602,\n  0.5425925925925926,\n  0.027870680044593088],\n [2,\n  0.9319444444444445,\n  0.3851727982162765,\n  0.05092592592592592,\n  0.028985507246376812],\n [2,\n  0.9347222222222222,\n  0.07636566332218506,\n  0.01574074074074074,\n  0.026755852842809364],\n [2,\n  0.06898148148148148,\n  0.07636566332218506,\n  0.041666666666666664,\n  0.02564102564102564],\n [4,\n  0.500462962962963,\n  0.18729096989966554,\n  0.9990740740740741,\n  0.3032329988851728],\n [9,\n  0.500462962962963,\n  0.018115942028985508,\n  0.9990740740740741,\n  0.03511705685618729]]"
     },
     "execution_count": 47,
     "metadata": {},
     "output_type": "execute_result"
    }
   ],
   "source": [],
   "metadata": {
    "collapsed": false
   }
  },
  {
   "cell_type": "code",
   "execution_count": 59,
   "outputs": [],
   "source": [
    "colors = {0: (220,0,0), 1: (0, 220,0), 2:(0,0,220), 3: (220,200,0), 4: (200, 0,220), 5:(0, 200, 200), 6:(100,50, 100), 7:(50, 100, 100),8:(100, 100, 50), 9:(20, 15, 250), 10:(200, 20, 100), 11:(20,20, 20)}"
   ],
   "metadata": {
    "collapsed": false
   }
  },
  {
   "cell_type": "code",
   "execution_count": 25,
   "outputs": [],
   "source": [
    "classes = {}\n",
    "for key in VINS_CLASSES:\n",
    "    classes[VINS_CLASSES[key]] = str(key)"
   ],
   "metadata": {
    "collapsed": false
   }
  },
  {
   "cell_type": "code",
   "execution_count": 26,
   "outputs": [
    {
     "data": {
      "text/plain": "{0: 'BackgroundImage',\n 1: 'CheckedTextView',\n 2: 'Icon',\n 3: 'EditText',\n 4: 'Image',\n 5: 'Text',\n 6: 'TextButton',\n 7: 'Drawer',\n 8: 'PageIndicator',\n 9: 'UpperTaskBar',\n 10: 'Modal',\n 11: 'Switch'}"
     },
     "execution_count": 26,
     "metadata": {},
     "output_type": "execute_result"
    }
   ],
   "source": [
    "classes"
   ],
   "metadata": {
    "collapsed": false
   }
  },
  {
   "cell_type": "code",
   "execution_count": 71,
   "outputs": [],
   "source": [
    "def draw_text(img, text,\n",
    "              pos=(0, 0),\n",
    "              font=cv2.FONT_HERSHEY_PLAIN,\n",
    "              font_scale=3,\n",
    "              font_thickness=2,\n",
    "              text_color=(0, 255, 0),\n",
    "              text_color_bg=(0, 0, 0)\n",
    "              ):\n",
    "\n",
    "    x, y = pos\n",
    "    text_size, _ = cv2.getTextSize(text, font, font_scale, font_thickness)\n",
    "    text_w, text_h = text_size\n",
    "    text_w +=2\n",
    "    text_h += 2\n",
    "    cv2.rectangle(img, pos, (x + text_w, y + text_h), text_color_bg, -1)\n",
    "    cv2.putText(img, text, (x, y + text_h + font_scale - 1), font, font_scale, text_color, font_thickness)\n",
    "\n",
    "    return text_size"
   ],
   "metadata": {
    "collapsed": false
   }
  },
  {
   "cell_type": "code",
   "execution_count": 73,
   "outputs": [
    {
     "data": {
      "text/plain": "True"
     },
     "execution_count": 73,
     "metadata": {},
     "output_type": "execute_result"
    }
   ],
   "source": [
    "I = cv2.imread(\"2209.jpg\")\n",
    "h,w,_ = I.shape\n",
    "for c, x, y, wb, hb in objects:\n",
    "    x, wb = x * w, wb * w\n",
    "    y, hb = y * h, hb * h\n",
    "    x0 = x - wb / 2\n",
    "    x1 = x + wb / 2\n",
    "    y0 = y - hb / 2\n",
    "    y1 = y + hb / 2\n",
    "\n",
    "    start_point = (int(x0), int(y0))\n",
    "    end_point = (int(x1), int(y1))\n",
    "    cv2.rectangle(I, start_point, end_point, color=colors[c], thickness=3)\n",
    "\n",
    "    shift = -10 if y0 < 15 else 10\n",
    "    # cv2.putText(\n",
    "    draw_text(\n",
    "        I,\n",
    "        classes[c],\n",
    "        (int(x0), int(y0) - shift),\n",
    "        font = cv2.FONT_HERSHEY_SIMPLEX,\n",
    "        # fontFace = cv2.FONT_HERSHEY_SIMPLEX,\n",
    "        font_scale = 1,\n",
    "        text_color = (250,250,250),\n",
    "        text_color_bg=colors[c],\n",
    "        # color = (20, 20, 20),\n",
    "        font_thickness=2\n",
    "    )\n",
    "\n",
    "cv2.imwrite(\"2209_gt.jpg\", I)"
   ],
   "metadata": {
    "collapsed": false
   }
  },
  {
   "cell_type": "code",
   "execution_count": null,
   "outputs": [],
   "source": [],
   "metadata": {
    "collapsed": false
   }
  }
 ],
 "metadata": {
  "kernelspec": {
   "display_name": "Python 3",
   "language": "python",
   "name": "python3"
  },
  "language_info": {
   "codemirror_mode": {
    "name": "ipython",
    "version": 2
   },
   "file_extension": ".py",
   "mimetype": "text/x-python",
   "name": "python",
   "nbconvert_exporter": "python",
   "pygments_lexer": "ipython2",
   "version": "2.7.6"
  }
 },
 "nbformat": 4,
 "nbformat_minor": 0
}

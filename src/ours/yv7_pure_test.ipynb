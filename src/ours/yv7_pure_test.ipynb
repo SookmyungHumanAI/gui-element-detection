{
 "cells": [
  {
   "cell_type": "code",
   "execution_count": 1,
   "metadata": {
    "collapsed": true
   },
   "outputs": [],
   "source": [
    "import torch\n",
    "from glob import glob\n",
    "import numpy as np\n",
    "import sys\n",
    "sys.path.insert(1, 'E:/Research/course research projects/data-driven software engineering/gui-element-detection/src')\n",
    "from constants import VINS_MERGED_YOLO_SPLIT_TEST_IMAGES as testImagePath\n",
    "from constants import VINS_MERGED_YOLO_SPLIT_TRAIN_IMAGES as trainImagePath\n",
    "from constants import VINS_MERGED_YOLO_SPLIT_VAL_IMAGES as valImagePath\n",
    "\n",
    "from constants import VINS_MERGED_YOLO_SPLIT_TEST_LABELS as testLabelPath\n",
    "from constants import VINS_MERGED_YOLO_SPLIT_TRAIN_LABELS as trainLabelPath\n",
    "from constants import VINS_MERGED_YOLO_SPLIT_VAL_LABELS as valLabelPath"
   ]
  },
  {
   "cell_type": "code",
   "execution_count": 8,
   "outputs": [
    {
     "name": "stderr",
     "output_type": "stream",
     "text": [
      "Downloading: \"https://github.com/WongKinYiu/yolov7/archive/main.zip\" to C:\\Users\\Shayan/.cache\\torch\\hub\\main.zip\n",
      "\n",
      "                 from  n    params  module                                  arguments                     \n"
     ]
    },
    {
     "ename": "NameError",
     "evalue": "name 'CrossConv' is not defined",
     "output_type": "error",
     "traceback": [
      "\u001B[1;31m---------------------------------------------------------------------------\u001B[0m",
      "\u001B[1;31mNameError\u001B[0m                                 Traceback (most recent call last)",
      "Cell \u001B[1;32mIn[8], line 5\u001B[0m\n\u001B[0;32m      3\u001B[0m path \u001B[38;5;241m=\u001B[39m \u001B[38;5;124m'\u001B[39m\u001B[38;5;124mE:/Research/course research projects/data-driven software engineering/gui-element-detection/src/yolo/yolov7/runs/train/conda_custom_env_1007/weights/best.pt\u001B[39m\u001B[38;5;124m'\u001B[39m\n\u001B[0;32m      4\u001B[0m \u001B[38;5;66;03m# model = torch.hub.load(\"E:/Research/course research projects/data-driven software engineering/gui-element-detection/src/yolo/yolov7\",\"custom\",f\"{path}\", source=\"local\")\u001B[39;00m\n\u001B[1;32m----> 5\u001B[0m model \u001B[38;5;241m=\u001B[39m \u001B[43mtorch\u001B[49m\u001B[38;5;241;43m.\u001B[39;49m\u001B[43mhub\u001B[49m\u001B[38;5;241;43m.\u001B[39;49m\u001B[43mload\u001B[49m\u001B[43m(\u001B[49m\u001B[38;5;124;43m\"\u001B[39;49m\u001B[38;5;124;43mWongKinYiu/yolov7\u001B[39;49m\u001B[38;5;124;43m\"\u001B[39;49m\u001B[43m,\u001B[49m\u001B[38;5;124;43m\"\u001B[39;49m\u001B[38;5;124;43mcustom\u001B[39;49m\u001B[38;5;124;43m\"\u001B[39;49m\u001B[43m,\u001B[49m\u001B[38;5;124;43mf\u001B[39;49m\u001B[38;5;124;43m\"\u001B[39;49m\u001B[38;5;132;43;01m{\u001B[39;49;00m\u001B[43mpath\u001B[49m\u001B[38;5;132;43;01m}\u001B[39;49;00m\u001B[38;5;124;43m\"\u001B[39;49m\u001B[43m,\u001B[49m\u001B[43m \u001B[49m\u001B[43mforce_reload\u001B[49m\u001B[38;5;241;43m=\u001B[39;49m\u001B[38;5;28;43;01mTrue\u001B[39;49;00m\u001B[43m)\u001B[49m\n",
      "File \u001B[1;32m~\\.conda\\envs\\Yolov7_u\\lib\\site-packages\\torch\\hub.py:404\u001B[0m, in \u001B[0;36mload\u001B[1;34m(repo_or_dir, model, source, force_reload, verbose, skip_validation, *args, **kwargs)\u001B[0m\n\u001B[0;32m    401\u001B[0m \u001B[38;5;28;01mif\u001B[39;00m source \u001B[38;5;241m==\u001B[39m \u001B[38;5;124m'\u001B[39m\u001B[38;5;124mgithub\u001B[39m\u001B[38;5;124m'\u001B[39m:\n\u001B[0;32m    402\u001B[0m     repo_or_dir \u001B[38;5;241m=\u001B[39m _get_cache_or_reload(repo_or_dir, force_reload, verbose, skip_validation)\n\u001B[1;32m--> 404\u001B[0m model \u001B[38;5;241m=\u001B[39m _load_local(repo_or_dir, model, \u001B[38;5;241m*\u001B[39margs, \u001B[38;5;241m*\u001B[39m\u001B[38;5;241m*\u001B[39mkwargs)\n\u001B[0;32m    405\u001B[0m \u001B[38;5;28;01mreturn\u001B[39;00m model\n",
      "File \u001B[1;32m~\\.conda\\envs\\Yolov7_u\\lib\\site-packages\\torch\\hub.py:433\u001B[0m, in \u001B[0;36m_load_local\u001B[1;34m(hubconf_dir, model, *args, **kwargs)\u001B[0m\n\u001B[0;32m    430\u001B[0m hub_module \u001B[38;5;241m=\u001B[39m _import_module(MODULE_HUBCONF, hubconf_path)\n\u001B[0;32m    432\u001B[0m entry \u001B[38;5;241m=\u001B[39m _load_entry_from_hubconf(hub_module, model)\n\u001B[1;32m--> 433\u001B[0m model \u001B[38;5;241m=\u001B[39m entry(\u001B[38;5;241m*\u001B[39margs, \u001B[38;5;241m*\u001B[39m\u001B[38;5;241m*\u001B[39mkwargs)\n\u001B[0;32m    435\u001B[0m sys\u001B[38;5;241m.\u001B[39mpath\u001B[38;5;241m.\u001B[39mremove(hubconf_dir)\n\u001B[0;32m    437\u001B[0m \u001B[38;5;28;01mreturn\u001B[39;00m model\n",
      "File \u001B[1;32m~/.cache\\torch\\hub\\WongKinYiu_yolov7_main\\hubconf.py:72\u001B[0m, in \u001B[0;36mcustom\u001B[1;34m(path_or_model, autoshape)\u001B[0m\n\u001B[0;32m     69\u001B[0m \u001B[38;5;28;01mif\u001B[39;00m \u001B[38;5;28misinstance\u001B[39m(model, \u001B[38;5;28mdict\u001B[39m):\n\u001B[0;32m     70\u001B[0m     model \u001B[38;5;241m=\u001B[39m model[\u001B[38;5;124m'\u001B[39m\u001B[38;5;124mema\u001B[39m\u001B[38;5;124m'\u001B[39m \u001B[38;5;28;01mif\u001B[39;00m model\u001B[38;5;241m.\u001B[39mget(\u001B[38;5;124m'\u001B[39m\u001B[38;5;124mema\u001B[39m\u001B[38;5;124m'\u001B[39m) \u001B[38;5;28;01melse\u001B[39;00m \u001B[38;5;124m'\u001B[39m\u001B[38;5;124mmodel\u001B[39m\u001B[38;5;124m'\u001B[39m]  \u001B[38;5;66;03m# load model\u001B[39;00m\n\u001B[1;32m---> 72\u001B[0m hub_model \u001B[38;5;241m=\u001B[39m \u001B[43mModel\u001B[49m\u001B[43m(\u001B[49m\u001B[43mmodel\u001B[49m\u001B[38;5;241;43m.\u001B[39;49m\u001B[43myaml\u001B[49m\u001B[43m)\u001B[49m\u001B[38;5;241m.\u001B[39mto(\u001B[38;5;28mnext\u001B[39m(model\u001B[38;5;241m.\u001B[39mparameters())\u001B[38;5;241m.\u001B[39mdevice)  \u001B[38;5;66;03m# create\u001B[39;00m\n\u001B[0;32m     73\u001B[0m hub_model\u001B[38;5;241m.\u001B[39mload_state_dict(model\u001B[38;5;241m.\u001B[39mfloat()\u001B[38;5;241m.\u001B[39mstate_dict())  \u001B[38;5;66;03m# load state_dict\u001B[39;00m\n\u001B[0;32m     74\u001B[0m hub_model\u001B[38;5;241m.\u001B[39mnames \u001B[38;5;241m=\u001B[39m model\u001B[38;5;241m.\u001B[39mnames  \u001B[38;5;66;03m# class names\u001B[39;00m\n",
      "File \u001B[1;32m~/.cache\\torch\\hub\\WongKinYiu_yolov7_main\\models\\yolo.py:528\u001B[0m, in \u001B[0;36mModel.__init__\u001B[1;34m(self, cfg, ch, nc, anchors)\u001B[0m\n\u001B[0;32m    526\u001B[0m     logger\u001B[38;5;241m.\u001B[39minfo(\u001B[38;5;124mf\u001B[39m\u001B[38;5;124m'\u001B[39m\u001B[38;5;124mOverriding model.yaml anchors with anchors=\u001B[39m\u001B[38;5;132;01m{\u001B[39;00manchors\u001B[38;5;132;01m}\u001B[39;00m\u001B[38;5;124m'\u001B[39m)\n\u001B[0;32m    527\u001B[0m     \u001B[38;5;28mself\u001B[39m\u001B[38;5;241m.\u001B[39myaml[\u001B[38;5;124m'\u001B[39m\u001B[38;5;124manchors\u001B[39m\u001B[38;5;124m'\u001B[39m] \u001B[38;5;241m=\u001B[39m \u001B[38;5;28mround\u001B[39m(anchors)  \u001B[38;5;66;03m# override yaml value\u001B[39;00m\n\u001B[1;32m--> 528\u001B[0m \u001B[38;5;28mself\u001B[39m\u001B[38;5;241m.\u001B[39mmodel, \u001B[38;5;28mself\u001B[39m\u001B[38;5;241m.\u001B[39msave \u001B[38;5;241m=\u001B[39m \u001B[43mparse_model\u001B[49m\u001B[43m(\u001B[49m\u001B[43mdeepcopy\u001B[49m\u001B[43m(\u001B[49m\u001B[38;5;28;43mself\u001B[39;49m\u001B[38;5;241;43m.\u001B[39;49m\u001B[43myaml\u001B[49m\u001B[43m)\u001B[49m\u001B[43m,\u001B[49m\u001B[43m \u001B[49m\u001B[43mch\u001B[49m\u001B[38;5;241;43m=\u001B[39;49m\u001B[43m[\u001B[49m\u001B[43mch\u001B[49m\u001B[43m]\u001B[49m\u001B[43m)\u001B[49m  \u001B[38;5;66;03m# model, savelist\u001B[39;00m\n\u001B[0;32m    529\u001B[0m \u001B[38;5;28mself\u001B[39m\u001B[38;5;241m.\u001B[39mnames \u001B[38;5;241m=\u001B[39m [\u001B[38;5;28mstr\u001B[39m(i) \u001B[38;5;28;01mfor\u001B[39;00m i \u001B[38;5;129;01min\u001B[39;00m \u001B[38;5;28mrange\u001B[39m(\u001B[38;5;28mself\u001B[39m\u001B[38;5;241m.\u001B[39myaml[\u001B[38;5;124m'\u001B[39m\u001B[38;5;124mnc\u001B[39m\u001B[38;5;124m'\u001B[39m])]  \u001B[38;5;66;03m# default names\u001B[39;00m\n\u001B[0;32m    530\u001B[0m \u001B[38;5;66;03m# print([x.shape for x in self.forward(torch.zeros(1, ch, 64, 64))])\u001B[39;00m\n\u001B[0;32m    531\u001B[0m \n\u001B[0;32m    532\u001B[0m \u001B[38;5;66;03m# Build strides, anchors\u001B[39;00m\n",
      "File \u001B[1;32m~/.cache\\torch\\hub\\WongKinYiu_yolov7_main\\models\\yolo.py:753\u001B[0m, in \u001B[0;36mparse_model\u001B[1;34m(d, ch)\u001B[0m\n\u001B[0;32m    749\u001B[0m         \u001B[38;5;28;01mpass\u001B[39;00m\n\u001B[0;32m    751\u001B[0m n \u001B[38;5;241m=\u001B[39m \u001B[38;5;28mmax\u001B[39m(\u001B[38;5;28mround\u001B[39m(n \u001B[38;5;241m*\u001B[39m gd), \u001B[38;5;241m1\u001B[39m) \u001B[38;5;28;01mif\u001B[39;00m n \u001B[38;5;241m>\u001B[39m \u001B[38;5;241m1\u001B[39m \u001B[38;5;28;01melse\u001B[39;00m n  \u001B[38;5;66;03m# depth gain\u001B[39;00m\n\u001B[0;32m    752\u001B[0m \u001B[38;5;28;01mif\u001B[39;00m m \u001B[38;5;129;01min\u001B[39;00m [nn\u001B[38;5;241m.\u001B[39mConv2d, Conv, RobustConv, RobustConv2, DWConv, GhostConv, RepConv, RepConv_OREPA, DownC, \n\u001B[1;32m--> 753\u001B[0m          SPP, SPPF, SPPCSPC, GhostSPPCSPC, MixConv2d, Focus, Stem, GhostStem, \u001B[43mCrossConv\u001B[49m, \n\u001B[0;32m    754\u001B[0m          Bottleneck, BottleneckCSPA, BottleneckCSPB, BottleneckCSPC, \n\u001B[0;32m    755\u001B[0m          RepBottleneck, RepBottleneckCSPA, RepBottleneckCSPB, RepBottleneckCSPC,  \n\u001B[0;32m    756\u001B[0m          Res, ResCSPA, ResCSPB, ResCSPC, \n\u001B[0;32m    757\u001B[0m          RepRes, RepResCSPA, RepResCSPB, RepResCSPC, \n\u001B[0;32m    758\u001B[0m          ResX, ResXCSPA, ResXCSPB, ResXCSPC, \n\u001B[0;32m    759\u001B[0m          RepResX, RepResXCSPA, RepResXCSPB, RepResXCSPC, \n\u001B[0;32m    760\u001B[0m          Ghost, GhostCSPA, GhostCSPB, GhostCSPC,\n\u001B[0;32m    761\u001B[0m          SwinTransformerBlock, STCSPA, STCSPB, STCSPC,\n\u001B[0;32m    762\u001B[0m          SwinTransformer2Block, ST2CSPA, ST2CSPB, ST2CSPC]:\n\u001B[0;32m    763\u001B[0m     c1, c2 \u001B[38;5;241m=\u001B[39m ch[f], args[\u001B[38;5;241m0\u001B[39m]\n\u001B[0;32m    764\u001B[0m     \u001B[38;5;28;01mif\u001B[39;00m c2 \u001B[38;5;241m!=\u001B[39m no:  \u001B[38;5;66;03m# if not output\u001B[39;00m\n",
      "\u001B[1;31mNameError\u001B[0m: name 'CrossConv' is not defined"
     ]
    }
   ],
   "source": [
    "# device = torch.device(\"cuda:0\" if torch.cuda.is_available() else \"cpu\")\n",
    "# device = torch.device(\"cpu\")\n",
    "path = 'E:/Research/course research projects/data-driven software engineering/gui-element-detection/src/yolo/yolov7/runs/train/conda_custom_env_1007/weights/best.pt'\n",
    "# model = torch.hub.load(\"E:/Research/course research projects/data-driven software engineering/gui-element-detection/src/yolo/yolov7\",\"custom\",f\"{path}\", source=\"local\")\n",
    "model = torch.hub.load(\"WongKinYiu/yolov7\",\"custom\",f\"{path}\", force_reload=True)\n",
    "                       # ,trust_repo=True)"
   ],
   "metadata": {
    "collapsed": false
   }
  },
  {
   "cell_type": "code",
   "execution_count": 3,
   "outputs": [
    {
     "name": "stdout",
     "output_type": "stream",
     "text": [
      "E:/Research/course research projects/data-driven software engineering/datasets/All Dataset/Merged/dataset/labels/test/\n",
      "E:/Research/course research projects/data-driven software engineering/datasets/All Dataset/Merged/dataset/images/test/\n"
     ]
    }
   ],
   "source": [
    "print(testLabelPath)\n",
    "print(testImagePath)"
   ],
   "metadata": {
    "collapsed": false
   }
  },
  {
   "cell_type": "code",
   "execution_count": 4,
   "outputs": [],
   "source": [
    "test_y = glob(testLabelPath + \"*.txt\")\n",
    "test_x = glob(testImagePath + '*.jpg')\n",
    "test_x.sort()\n",
    "test_y.sort()\n"
   ],
   "metadata": {
    "collapsed": false
   }
  },
  {
   "cell_type": "code",
   "execution_count": 7,
   "outputs": [],
   "source": [
    "import gc\n",
    "\n",
    "gc.collect()\n",
    "torch.cuda.empty_cache()\n",
    "with torch.no_grad():\n",
    "    p1 = model(test_x[0])"
   ],
   "metadata": {
    "collapsed": false
   }
  },
  {
   "cell_type": "code",
   "execution_count": 39,
   "outputs": [
    {
     "name": "stdout",
     "output_type": "stream",
     "text": [
      "        xmin      ymin      xmax      ymax  confidence  class          name\n",
      "0   0.158148  0.306168  0.838814  0.728519    0.989792     10         Modal\n",
      "1   0.197368  0.595191  0.750876  0.647504    0.978869      5          Text\n",
      "2   0.160019  0.305659  0.839379  0.512675    0.976781      4         Image\n",
      "3   0.199676  0.542985  0.644624  0.567469    0.969101      5          Text\n",
      "4   0.000000  0.000573  0.998420  0.036200    0.967974      9  UpperTaskBar\n",
      "5   0.598432  0.930813  0.649244  0.962281    0.962548      4         Image\n",
      "6   0.635743  0.679962  0.776321  0.697767    0.956460      5          Text\n",
      "7   0.173676  0.064941  0.421616  0.089336    0.955358      5          Text\n",
      "8   0.349282  0.931580  0.399015  0.962355    0.945065      4         Image\n",
      "9   0.095255  0.145809  0.236529  0.161086    0.937893      5          Text\n",
      "10  0.544945  0.777815  0.711108  0.796330    0.935858      5          Text\n",
      "11  0.417678  0.145341  0.578992  0.161377    0.933836      5          Text\n",
      "12  0.046104  0.857885  0.161661  0.874163    0.932765      5          Text\n",
      "13  0.542314  0.858661  0.657241  0.873638    0.927633      5          Text\n",
      "14  0.545807  0.744200  0.742020  0.767822    0.927233      5          Text\n",
      "15  0.050005  0.744917  0.285424  0.764803    0.923533      5          Text\n",
      "16  0.533842  0.972215  0.709293  0.986839    0.922243      5          Text\n",
      "17  0.301752  0.971187  0.445665  0.986082    0.922048      5          Text\n",
      "18  0.044613  0.065151  0.091472  0.087382    0.922047      2          Icon\n",
      "19  0.788405  0.972802  0.958606  0.987229    0.915457      5          Text\n",
      "20  0.784750  0.145638  0.879339  0.161166    0.914244      5          Text\n",
      "21  0.046438  0.778780  0.309777  0.792931    0.909180      5          Text\n",
      "22  0.917448  0.062586  0.962131  0.090350    0.899199      2          Icon\n",
      "23  0.087680  0.972028  0.164263  0.986801    0.894157      5          Text\n",
      "24  0.850984  0.930861  0.897414  0.961998    0.805864      4         Image\n",
      "25  0.098565  0.931311  0.150910  0.961458    0.643043      2          Icon\n",
      "26  0.506045  0.194283  0.985502  0.358775    0.438854      4         Image\n",
      "27  0.097980  0.929647  0.152456  0.961552    0.315325      4         Image\n"
     ]
    }
   ],
   "source": [
    "bbs =p1.pandas().xyxyn\n",
    "print(bbs[0])"
   ],
   "metadata": {
    "collapsed": false
   }
  },
  {
   "cell_type": "code",
   "execution_count": 37,
   "outputs": [
    {
     "name": "stdout",
     "output_type": "stream",
     "text": [
      "[[0.15814802050590515 0.3061675429344177 0.8388144969940186 0.7285193204879761 0.9897923469543457 10 'Modal']\n",
      " [0.19736817479133606 0.5951909422874451 0.7508763074874878 0.6475042700767517 0.9788690209388733 5 'Text']\n",
      " [0.16001854836940765 0.3056586980819702 0.8393785953521729 0.512675404548645 0.9767805933952332 4 'Image']\n",
      " [0.19967594742774963 0.5429854989051819 0.6446235179901123 0.5674689412117004 0.9691014289855957 5 'Text']\n",
      " [0.0 0.0005732566351071 0.9984195232391357 0.036200232803821564 0.9679737687110901 9 'UpperTaskBar']\n",
      " [0.5984317660331726 0.9308128356933594 0.6492436528205872 0.9622806310653687 0.962547779083252 4 'Image']\n",
      " [0.6357430815696716 0.6799619197845459 0.7763213515281677 0.697766900062561 0.956459641456604 5 'Text']\n",
      " [0.17367634177207947 0.06494054198265076 0.42161649465560913 0.089335598051548 0.9553576707839966 5 'Text']\n",
      " [0.3492819368839264 0.9315803647041321 0.3990148901939392 0.962354838848114 0.9450653195381165 4 'Image']\n",
      " [0.09525483101606369 0.14580948650836945 0.23652930557727814 0.1610855758190155 0.937892735004425 5 'Text']\n",
      " [0.5449453592300415 0.7778153419494629 0.7111079096794128 0.7963300943374634 0.9358578324317932 5 'Text']\n",
      " [0.41767773032188416 0.1453414112329483 0.5789917707443237 0.16137707233428955 0.9338363409042358 5 'Text']\n",
      " [0.04610414430499077 0.8578850030899048 0.16166143119335175 0.8741629719734192 0.9327651262283325 5 'Text']\n",
      " [0.5423136949539185 0.8586605191230774 0.6572407484054565 0.8736376166343689 0.9276326298713684 5 'Text']\n",
      " [0.5458071827888489 0.7442000508308411 0.7420198917388916 0.7678223848342896 0.9272330403327942 5 'Text']\n",
      " [0.05000510811805725 0.7449167370796204 0.28542423248291016 0.7648025751113892 0.9235325455665588 5 'Text']\n",
      " [0.533841609954834 0.9722147583961487 0.7092933654785156 0.9868385791778564 0.9222425818443298 5 'Text']\n",
      " [0.3017520606517792 0.9711869359016418 0.44566503167152405 0.9860823750495911 0.9220481514930725 5 'Text']\n",
      " [0.04461323469877243 0.06515105068683624 0.09147221595048904 0.08738228678703308 0.9220467805862427 2 'Icon']\n",
      " [0.7884054780006409 0.972801923751831 0.9586056470870972 0.9872292876243591 0.9154571890830994 5 'Text']\n",
      " [0.7847504019737244 0.1456383913755417 0.8793389797210693 0.1611662060022354 0.9142444133758545 5 'Text']\n",
      " [0.04643833264708519 0.7787796258926392 0.30977705121040344 0.7929311394691467 0.9091795682907104 5 'Text']\n",
      " [0.9174475073814392 0.06258628517389297 0.9621310830116272 0.09034986793994904 0.899198591709137 2 'Icon']\n",
      " [0.08767973631620407 0.9720276594161987 0.16426263749599457 0.9868006110191345 0.8941571116447449 5 'Text']\n",
      " [0.8509835600852966 0.9308608174324036 0.8974136710166931 0.9619979858398438 0.8058643937110901 4 'Image']\n",
      " [0.09856455773115158 0.9313112497329712 0.15090951323509216 0.9614577889442444 0.6430431008338928 2 'Icon']\n",
      " [0.5060445666313171 0.19428342580795288 0.9855020046234131 0.3587753176689148 0.4388539493083954 4 'Image']\n",
      " [0.09798029810190201 0.9296469688415527 0.1524563580751419 0.9615515470504761 0.31532520055770874 4 'Image']]\n"
     ]
    }
   ],
   "source": [
    "print(bbs[0].to_numpy())"
   ],
   "metadata": {
    "collapsed": false
   }
  },
  {
   "cell_type": "code",
   "execution_count": 30,
   "outputs": [
    {
     "data": {
      "text/plain": "['__class__',\n '__delattr__',\n '__dict__',\n '__dir__',\n '__doc__',\n '__eq__',\n '__format__',\n '__ge__',\n '__getattribute__',\n '__gt__',\n '__hash__',\n '__init__',\n '__init_subclass__',\n '__le__',\n '__len__',\n '__lt__',\n '__module__',\n '__ne__',\n '__new__',\n '__reduce__',\n '__reduce_ex__',\n '__repr__',\n '__setattr__',\n '__sizeof__',\n '__slotnames__',\n '__str__',\n '__subclasshook__',\n '__weakref__',\n 'display',\n 'files',\n 'imgs',\n 'n',\n 'names',\n 'pandas',\n 'pred',\n 'print',\n 'render',\n 's',\n 'save',\n 'show',\n 't',\n 'tolist',\n 'xywh',\n 'xywhn',\n 'xyxy',\n 'xyxyn']"
     },
     "execution_count": 30,
     "metadata": {},
     "output_type": "execute_result"
    }
   ],
   "source": [
    "dir(p1.pandas())\n",
    "dir(p1.pandas())"
   ],
   "metadata": {
    "collapsed": false
   }
  },
  {
   "cell_type": "code",
   "execution_count": 31,
   "outputs": [
    {
     "data": {
      "text/plain": "[        xmin      ymin      xmax      ymax  confidence  class          name\n 0   0.158148  0.306168  0.838814  0.728519    0.989792     10         Modal\n 1   0.197368  0.595191  0.750876  0.647504    0.978869      5          Text\n 2   0.160019  0.305659  0.839379  0.512675    0.976781      4         Image\n 3   0.199676  0.542985  0.644624  0.567469    0.969101      5          Text\n 4   0.000000  0.000573  0.998420  0.036200    0.967974      9  UpperTaskBar\n 5   0.598432  0.930813  0.649244  0.962281    0.962548      4         Image\n 6   0.635743  0.679962  0.776321  0.697767    0.956460      5          Text\n 7   0.173676  0.064941  0.421616  0.089336    0.955358      5          Text\n 8   0.349282  0.931580  0.399015  0.962355    0.945065      4         Image\n 9   0.095255  0.145809  0.236529  0.161086    0.937893      5          Text\n 10  0.544945  0.777815  0.711108  0.796330    0.935858      5          Text\n 11  0.417678  0.145341  0.578992  0.161377    0.933836      5          Text\n 12  0.046104  0.857885  0.161661  0.874163    0.932765      5          Text\n 13  0.542314  0.858661  0.657241  0.873638    0.927633      5          Text\n 14  0.545807  0.744200  0.742020  0.767822    0.927233      5          Text\n 15  0.050005  0.744917  0.285424  0.764803    0.923533      5          Text\n 16  0.533842  0.972215  0.709293  0.986839    0.922243      5          Text\n 17  0.301752  0.971187  0.445665  0.986082    0.922048      5          Text\n 18  0.044613  0.065151  0.091472  0.087382    0.922047      2          Icon\n 19  0.788405  0.972802  0.958606  0.987229    0.915457      5          Text\n 20  0.784750  0.145638  0.879339  0.161166    0.914244      5          Text\n 21  0.046438  0.778780  0.309777  0.792931    0.909180      5          Text\n 22  0.917448  0.062586  0.962131  0.090350    0.899199      2          Icon\n 23  0.087680  0.972028  0.164263  0.986801    0.894157      5          Text\n 24  0.850984  0.930861  0.897414  0.961998    0.805864      4         Image\n 25  0.098565  0.931311  0.150910  0.961458    0.643043      2          Icon\n 26  0.506045  0.194283  0.985502  0.358775    0.438854      4         Image\n 27  0.097980  0.929647  0.152456  0.961552    0.315325      4         Image]"
     },
     "execution_count": 31,
     "metadata": {},
     "output_type": "execute_result"
    }
   ],
   "source": [
    "p1.pandas().xyxyn"
   ],
   "metadata": {
    "collapsed": false
   }
  },
  {
   "cell_type": "code",
   "execution_count": 33,
   "outputs": [],
   "source": [
    "p1.show()"
   ],
   "metadata": {
    "collapsed": false
   }
  },
  {
   "cell_type": "code",
   "execution_count": 3,
   "outputs": [
    {
     "data": {
      "text/plain": "<module 'models.yolo' from 'C:\\\\Users\\\\Shayan/.cache\\\\torch\\\\hub\\\\ultralytics_yolov5_master\\\\models\\\\yolo.py'>"
     },
     "execution_count": 3,
     "metadata": {},
     "output_type": "execute_result"
    }
   ],
   "source": [
    "sys.modules.pop('models')\n",
    "sys.modules.pop('models.common')\n",
    "sys.modules.pop('utils')\n",
    "sys.modules.pop('utils.general')\n",
    "sys.modules.pop('utils.metrics')\n",
    "sys.modules.pop('utils.plots')\n",
    "sys.modules.pop('utils.torch_utils')\n",
    "sys.modules.pop('models.yolo')"
   ],
   "metadata": {
    "collapsed": false
   }
  },
  {
   "cell_type": "code",
   "execution_count": 21,
   "outputs": [
    {
     "data": {
      "text/plain": "<module 'utils.general' from 'E:\\\\Research/course research projects/data-driven software engineering/gui-element-detection/src/yolo/yolov7\\\\utils\\\\general.py'>"
     },
     "execution_count": 21,
     "metadata": {},
     "output_type": "execute_result"
    }
   ],
   "source": [
    "sys.modules['utils.general']"
   ],
   "metadata": {
    "collapsed": false
   }
  },
  {
   "cell_type": "markdown",
   "source": [
    "# YOLOv5 test"
   ],
   "metadata": {
    "collapsed": false
   }
  },
  {
   "cell_type": "code",
   "execution_count": 2,
   "outputs": [
    {
     "name": "stderr",
     "output_type": "stream",
     "text": [
      "Downloading: \"https://github.com/ultralytics/yolov5/archive/master.zip\" to C:\\Users\\Shayan/.cache\\torch\\hub\\master.zip\n",
      "YOLOv5  2023-3-29 Python-3.9.16 torch-1.11.0+cu113 CUDA:0 (NVIDIA GeForce RTX 3070 Ti Laptop GPU, 8192MiB)\n",
      "\n",
      "Fusing layers... \n",
      "Model summary: 157 layers, 7042489 parameters, 0 gradients, 15.9 GFLOPs\n",
      "Adding AutoShape... \n"
     ]
    }
   ],
   "source": [
    "v5r7_path = 'E:/Research/course research projects/data-driven software engineering/gui-element-detection/src/yolo/yolov5/runs/train/results_300_f3/weights/best.pt'\n",
    "torch.cuda.empty_cache()\n",
    "\n",
    "# model5 = torch.hub.load('E:/Research/course research projects/data-driven software engineering/gui-element-detection/src/yolo/yolov5', 'custom', path=f\"{v5r7_path}\", source='local', force_reload=True)\n",
    "model5 = torch.hub.load('ultralytics/yolov5', 'custom', path=f\"{v5r7_path}\")"
   ],
   "metadata": {
    "collapsed": false
   }
  },
  {
   "cell_type": "code",
   "execution_count": null,
   "outputs": [],
   "source": [],
   "metadata": {
    "collapsed": false
   }
  },
  {
   "cell_type": "code",
   "execution_count": 3,
   "outputs": [
    {
     "name": "stderr",
     "output_type": "stream",
     "text": [
      "Using cache found in C:\\Users\\Shayan/.cache\\torch\\hub\\WongKinYiu_yolov7_main\n",
      "\n",
      "                 from  n    params  module                                  arguments                     \n",
      "  0                -1  1       928  models.common.Conv                      [3, 32, 3, 1]                 \n",
      "  1                -1  1     18560  models.common.Conv                      [32, 64, 3, 2]                \n",
      "  2                -1  1     36992  models.common.Conv                      [64, 64, 3, 1]                \n",
      "  3                -1  1     73984  models.common.Conv                      [64, 128, 3, 2]               \n",
      "  4                -1  1      8320  models.common.Conv                      [128, 64, 1, 1]               \n",
      "  5                -2  1      8320  models.common.Conv                      [128, 64, 1, 1]               \n",
      "  6                -1  1     36992  models.common.Conv                      [64, 64, 3, 1]                \n",
      "  7                -1  1     36992  models.common.Conv                      [64, 64, 3, 1]                \n",
      "  8                -1  1     36992  models.common.Conv                      [64, 64, 3, 1]                \n",
      "  9                -1  1     36992  models.common.Conv                      [64, 64, 3, 1]                \n",
      " 10  [-1, -3, -5, -6]  1         0  models.common.Concat                    [1]                           \n",
      " 11                -1  1     66048  models.common.Conv                      [256, 256, 1, 1]              \n",
      " 12                -1  1         0  models.common.MP                        []                            \n",
      " 13                -1  1     33024  models.common.Conv                      [256, 128, 1, 1]              \n",
      " 14                -3  1     33024  models.common.Conv                      [256, 128, 1, 1]              \n",
      " 15                -1  1    147712  models.common.Conv                      [128, 128, 3, 2]              \n",
      " 16          [-1, -3]  1         0  models.common.Concat                    [1]                           \n",
      " 17                -1  1     33024  models.common.Conv                      [256, 128, 1, 1]              \n",
      " 18                -2  1     33024  models.common.Conv                      [256, 128, 1, 1]              \n",
      " 19                -1  1    147712  models.common.Conv                      [128, 128, 3, 1]              \n",
      " 20                -1  1    147712  models.common.Conv                      [128, 128, 3, 1]              \n",
      " 21                -1  1    147712  models.common.Conv                      [128, 128, 3, 1]              \n",
      " 22                -1  1    147712  models.common.Conv                      [128, 128, 3, 1]              \n",
      " 23  [-1, -3, -5, -6]  1         0  models.common.Concat                    [1]                           \n",
      " 24                -1  1    263168  models.common.Conv                      [512, 512, 1, 1]              \n",
      " 25                -1  1         0  models.common.MP                        []                            \n",
      " 26                -1  1    131584  models.common.Conv                      [512, 256, 1, 1]              \n",
      " 27                -3  1    131584  models.common.Conv                      [512, 256, 1, 1]              \n",
      " 28                -1  1    590336  models.common.Conv                      [256, 256, 3, 2]              \n",
      " 29          [-1, -3]  1         0  models.common.Concat                    [1]                           \n",
      " 30                -1  1    131584  models.common.Conv                      [512, 256, 1, 1]              \n",
      " 31                -2  1    131584  models.common.Conv                      [512, 256, 1, 1]              \n",
      " 32                -1  1    590336  models.common.Conv                      [256, 256, 3, 1]              \n",
      " 33                -1  1    590336  models.common.Conv                      [256, 256, 3, 1]              \n",
      " 34                -1  1    590336  models.common.Conv                      [256, 256, 3, 1]              \n",
      " 35                -1  1    590336  models.common.Conv                      [256, 256, 3, 1]              \n",
      " 36  [-1, -3, -5, -6]  1         0  models.common.Concat                    [1]                           \n",
      " 37                -1  1   1050624  models.common.Conv                      [1024, 1024, 1, 1]            \n",
      " 38                -1  1         0  models.common.MP                        []                            \n",
      " 39                -1  1    525312  models.common.Conv                      [1024, 512, 1, 1]             \n",
      " 40                -3  1    525312  models.common.Conv                      [1024, 512, 1, 1]             \n",
      " 41                -1  1   2360320  models.common.Conv                      [512, 512, 3, 2]              \n",
      " 42          [-1, -3]  1         0  models.common.Concat                    [1]                           \n",
      " 43                -1  1    262656  models.common.Conv                      [1024, 256, 1, 1]             \n",
      " 44                -2  1    262656  models.common.Conv                      [1024, 256, 1, 1]             \n",
      " 45                -1  1    590336  models.common.Conv                      [256, 256, 3, 1]              \n",
      " 46                -1  1    590336  models.common.Conv                      [256, 256, 3, 1]              \n",
      " 47                -1  1    590336  models.common.Conv                      [256, 256, 3, 1]              \n",
      " 48                -1  1    590336  models.common.Conv                      [256, 256, 3, 1]              \n",
      " 49  [-1, -3, -5, -6]  1         0  models.common.Concat                    [1]                           \n",
      " 50                -1  1   1050624  models.common.Conv                      [1024, 1024, 1, 1]            \n",
      " 51                -1  1   7609344  models.common.SPPCSPC                   [1024, 512, 1]                \n",
      " 52                -1  1    131584  models.common.Conv                      [512, 256, 1, 1]              \n",
      " 53                -1  1         0  torch.nn.modules.upsampling.Upsample    [None, 2, 'nearest']          \n",
      " 54                37  1    262656  models.common.Conv                      [1024, 256, 1, 1]             \n",
      " 55          [-1, -2]  1         0  models.common.Concat                    [1]                           \n",
      " 56                -1  1    131584  models.common.Conv                      [512, 256, 1, 1]              \n",
      " 57                -2  1    131584  models.common.Conv                      [512, 256, 1, 1]              \n",
      " 58                -1  1    295168  models.common.Conv                      [256, 128, 3, 1]              \n",
      " 59                -1  1    147712  models.common.Conv                      [128, 128, 3, 1]              \n",
      " 60                -1  1    147712  models.common.Conv                      [128, 128, 3, 1]              \n",
      " 61                -1  1    147712  models.common.Conv                      [128, 128, 3, 1]              \n",
      " 62[-1, -2, -3, -4, -5, -6]  1         0  models.common.Concat                    [1]                           \n",
      " 63                -1  1    262656  models.common.Conv                      [1024, 256, 1, 1]             \n",
      " 64                -1  1     33024  models.common.Conv                      [256, 128, 1, 1]              \n",
      " 65                -1  1         0  torch.nn.modules.upsampling.Upsample    [None, 2, 'nearest']          \n",
      " 66                24  1     65792  models.common.Conv                      [512, 128, 1, 1]              \n",
      " 67          [-1, -2]  1         0  models.common.Concat                    [1]                           \n",
      " 68                -1  1     33024  models.common.Conv                      [256, 128, 1, 1]              \n",
      " 69                -2  1     33024  models.common.Conv                      [256, 128, 1, 1]              \n",
      " 70                -1  1     73856  models.common.Conv                      [128, 64, 3, 1]               \n",
      " 71                -1  1     36992  models.common.Conv                      [64, 64, 3, 1]                \n",
      " 72                -1  1     36992  models.common.Conv                      [64, 64, 3, 1]                \n",
      " 73                -1  1     36992  models.common.Conv                      [64, 64, 3, 1]                \n",
      " 74[-1, -2, -3, -4, -5, -6]  1         0  models.common.Concat                    [1]                           \n",
      " 75                -1  1     65792  models.common.Conv                      [512, 128, 1, 1]              \n",
      " 76                -1  1         0  models.common.MP                        []                            \n",
      " 77                -1  1     16640  models.common.Conv                      [128, 128, 1, 1]              \n",
      " 78                -3  1     16640  models.common.Conv                      [128, 128, 1, 1]              \n",
      " 79                -1  1    147712  models.common.Conv                      [128, 128, 3, 2]              \n",
      " 80      [-1, -3, 63]  1         0  models.common.Concat                    [1]                           \n",
      " 81                -1  1    131584  models.common.Conv                      [512, 256, 1, 1]              \n",
      " 82                -2  1    131584  models.common.Conv                      [512, 256, 1, 1]              \n",
      " 83                -1  1    295168  models.common.Conv                      [256, 128, 3, 1]              \n",
      " 84                -1  1    147712  models.common.Conv                      [128, 128, 3, 1]              \n",
      " 85                -1  1    147712  models.common.Conv                      [128, 128, 3, 1]              \n",
      " 86                -1  1    147712  models.common.Conv                      [128, 128, 3, 1]              \n",
      " 87[-1, -2, -3, -4, -5, -6]  1         0  models.common.Concat                    [1]                           \n",
      " 88                -1  1    262656  models.common.Conv                      [1024, 256, 1, 1]             \n",
      " 89                -1  1         0  models.common.MP                        []                            \n",
      " 90                -1  1     66048  models.common.Conv                      [256, 256, 1, 1]              \n",
      " 91                -3  1     66048  models.common.Conv                      [256, 256, 1, 1]              \n",
      " 92                -1  1    590336  models.common.Conv                      [256, 256, 3, 2]              \n",
      " 93      [-1, -3, 51]  1         0  models.common.Concat                    [1]                           \n",
      " 94                -1  1    525312  models.common.Conv                      [1024, 512, 1, 1]             \n",
      " 95                -2  1    525312  models.common.Conv                      [1024, 512, 1, 1]             \n",
      " 96                -1  1   1180160  models.common.Conv                      [512, 256, 3, 1]              \n",
      " 97                -1  1    590336  models.common.Conv                      [256, 256, 3, 1]              \n",
      " 98                -1  1    590336  models.common.Conv                      [256, 256, 3, 1]              \n",
      " 99                -1  1    590336  models.common.Conv                      [256, 256, 3, 1]              \n",
      "100[-1, -2, -3, -4, -5, -6]  1         0  models.common.Concat                    [1]                           \n",
      "101                -1  1   1049600  models.common.Conv                      [2048, 512, 1, 1]             \n",
      "102                75  1    328704  models.common.RepConv                   [128, 256, 3, 1]              \n",
      "103                88  1   1312768  models.common.RepConv                   [256, 512, 3, 1]              \n",
      "104               101  1   5246976  models.common.RepConv                   [512, 1024, 3, 1]             \n",
      "105   [102, 103, 104]  1     93490  models.yolo.IDetect                     [12, [[12, 16, 19, 36, 40, 28], [36, 75, 76, 55, 72, 146], [142, 110, 192, 243, 459, 401]], [256, 512, 1024]]\n",
      "Model Summary: 415 layers, 37255890 parameters, 37255890 gradients, 105.3 GFLOPS\n",
      "\n",
      "YOLOR  2023-3-28 torch 1.11.0+cu113 CUDA:0 (NVIDIA GeForce RTX 3070 Ti Laptop GPU, 8191.5MB)\n",
      "\n"
     ]
    },
    {
     "name": "stdout",
     "output_type": "stream",
     "text": [
      "Adding autoShape... \n"
     ]
    }
   ],
   "source": [
    "path2 = 'E:/Research/course research projects/data-driven software engineering/gui-element-detection/src/yolo/yolov7/runs/train/conda_custom_env_1007/weights/last.pt'\n",
    "model2 = torch.hub.load(\"WongKinYiu/yolov7\",\"custom\",f\"{path2}\")\n",
    "# ,trust_repo=True)"
   ],
   "metadata": {
    "collapsed": false
   }
  }
 ],
 "metadata": {
  "kernelspec": {
   "display_name": "Python 3",
   "language": "python",
   "name": "python3"
  },
  "language_info": {
   "codemirror_mode": {
    "name": "ipython",
    "version": 2
   },
   "file_extension": ".py",
   "mimetype": "text/x-python",
   "name": "python",
   "nbconvert_exporter": "python",
   "pygments_lexer": "ipython2",
   "version": "2.7.6"
  }
 },
 "nbformat": 4,
 "nbformat_minor": 0
}
